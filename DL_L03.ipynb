{
  "nbformat": 4,
  "nbformat_minor": 0,
  "metadata": {
    "colab": {
      "name": "DL_L03.ipynb",
      "provenance": [],
      "collapsed_sections": []
    },
    "kernelspec": {
      "name": "python3",
      "display_name": "Python 3"
    }
  },
  "cells": [
    {
      "cell_type": "markdown",
      "metadata": {
        "id": "tzvK-r7-OArK",
        "colab_type": "text"
      },
      "source": [
        "#Tópicos Avanzados de Computación II\n",
        "##Dr. Carlos Villaseñor\n",
        "##Lección 3 - Redes neuronales de un capa"
      ]
    },
    {
      "cell_type": "markdown",
      "metadata": {
        "id": "FQFEkeMcOHx9",
        "colab_type": "text"
      },
      "source": [
        "A continuación la clase de la red neuronal de una capa (que se explicó en clase)"
      ]
    },
    {
      "cell_type": "code",
      "metadata": {
        "id": "n2aFyCrjN9AZ",
        "colab_type": "code",
        "colab": {}
      },
      "source": [
        "import numpy as np\n",
        "\n",
        "# Funciones de activación\n",
        "def linear(z, derivate=False):\n",
        "    if derivate:\n",
        "        da = np.ones(z.shape)\n",
        "        return z, da\n",
        "    else:\n",
        "        return z\n",
        "\n",
        "def sigmoid(z, derivate=False):\n",
        "    a = 1 / (1 + np.exp(-z))\n",
        "    if derivate:\n",
        "        da = a * (1 - a) \n",
        "        return a, da\n",
        "    return a\n",
        "\n",
        "def tanh(z, derivate=False):\n",
        "    a = np.tanh(z)\n",
        "    if derivate:\n",
        "        da = (1 + a) * (1 - a)\n",
        "        return a, da\n",
        "    return a\n",
        "\n",
        "def relu(z, derivate=False):\n",
        "    a = z * (z >= 0)\n",
        "    if derivate:\n",
        "        da = np.array(z >= 0, dtype=float) \n",
        "        return a, da\n",
        "    return a\n",
        "    \n",
        "\n",
        "class OLnetwork:\n",
        "    def __init__(self, n_input, n_output, act_func, learning_rate=0.1):\n",
        "        self.eta = learning_rate\n",
        "        self.w = 1 - 2 * np.random.rand(n_output, n_input)\n",
        "        self.b = 1 - 2 * np.random.rand(n_output, 1)\n",
        "        self.f = act_func\n",
        "        \n",
        "    def predict(self, X):\n",
        "        Z = np.dot(self.w, X) + self.b\n",
        "        Yest = self.f(Z)\n",
        "        return Yest\n",
        "    \n",
        "    def fit(self, X, Y, epochs=50):\n",
        "        #Calcular número de muestras\n",
        "        p = X.shape[1]\n",
        "        \n",
        "        # Iterar por cada época\n",
        "        for _ in range(epochs):\n",
        "            # Iterar por cada muestra\n",
        "            for i in range(p):\n",
        "                \n",
        "                # Sacar muestra\n",
        "                x = X[:,i].reshape(-1, 1)\n",
        "                y = Y[:,i].reshape(-1, 1) \n",
        "                \n",
        "                # Propagar muestra\n",
        "                Z = np.dot(self.w, x) + self.b\n",
        "                Yest, dy = self.f(Z, derivate=True)\n",
        "        \n",
        "                #Entrenar\n",
        "                lg = (y-Yest) * dy\n",
        "                self.w += self.eta * np.dot(lg, x.T)\n",
        "                self.b += self.eta * lg\n"
      ],
      "execution_count": 0,
      "outputs": []
    },
    {
      "cell_type": "markdown",
      "metadata": {
        "id": "LtxT--GRRybP",
        "colab_type": "text"
      },
      "source": [
        "Les dejo también está función para que puedan dibujar en su actividad"
      ]
    },
    {
      "cell_type": "code",
      "metadata": {
        "id": "rD0DOfIkSC5n",
        "colab_type": "code",
        "colab": {}
      },
      "source": [
        "def plot_data(X, Y, net):\n",
        "    import matplotlib.pyplot as plt\n",
        "    dot_c = ('r.', 'g.', 'b.', 'k.')\n",
        "    lin_c = ('r-', 'g-', 'b-', 'k-')\n",
        "    for i in range(X.shape[1]):\n",
        "        c = np.argmax(Y[:,i])\n",
        "        plt.plot(X[0,i], X[1,i], dot_c[c])\n",
        "    \n",
        "    for i in range(4):    \n",
        "        w1, w2, b = net.w[i,0], net.w[i,1], net.b[i]\n",
        "        plt.plot([-0, 1],[(-b/w2),(1/w2)*(-w1-b)], lin_c[i])   \n",
        "    \n",
        "    plt.xlim([0,1])\n",
        "    plt.ylim([0,1])"
      ],
      "execution_count": 0,
      "outputs": []
    }
  ]
}