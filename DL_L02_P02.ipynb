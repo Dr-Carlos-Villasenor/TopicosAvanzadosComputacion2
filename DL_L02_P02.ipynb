{
  "nbformat": 4,
  "nbformat_minor": 0,
  "metadata": {
    "colab": {
      "name": "DL_L02_P02.ipynb",
      "provenance": [],
      "collapsed_sections": [],
      "authorship_tag": "ABX9TyMmMI3KX/ExWkigZMNJPQ+e",
      "include_colab_link": true
    },
    "kernelspec": {
      "name": "python3",
      "display_name": "Python 3"
    }
  },
  "cells": [
    {
      "cell_type": "markdown",
      "metadata": {
        "id": "view-in-github",
        "colab_type": "text"
      },
      "source": [
        "<a href=\"https://colab.research.google.com/github/Dr-Carlos-Villasenor/TopicosAvanzadosComputacion2/blob/master/DL_L02_P02.ipynb\" target=\"_parent\"><img src=\"https://colab.research.google.com/assets/colab-badge.svg\" alt=\"Open In Colab\"/></a>"
      ]
    },
    {
      "cell_type": "markdown",
      "metadata": {
        "id": "NyrN3A9os6_x"
      },
      "source": [
        "#Tópicos Avanzados de Computación II\n",
        "##Dr. Carlos Villaseñor\n",
        "##Lección 2 - Redes neuronales de una sola neurona\n",
        "### Programación de Regresión logística"
      ]
    },
    {
      "cell_type": "markdown",
      "metadata": {
        "id": "O6aTMb5Qus37"
      },
      "source": [
        "Primeramente importemos unos paquetes importantes"
      ]
    },
    {
      "cell_type": "code",
      "metadata": {
        "id": "JtLg2tLAvG6R"
      },
      "source": [
        "import numpy as np\n",
        "import matplotlib.pyplot as plt\n",
        "import pandas as pd"
      ],
      "execution_count": 25,
      "outputs": []
    },
    {
      "cell_type": "markdown",
      "metadata": {
        "id": "r-VXYzItuwPe"
      },
      "source": [
        "Definamos nuestra neurona sigmoidal para hacer regresión logística"
      ]
    },
    {
      "cell_type": "code",
      "metadata": {
        "id": "hGdLqKX1uFmx"
      },
      "source": [
        "class Logistic_Neuron:\n",
        "\n",
        "    def __init__(self, n_inputs, learning_rate=0.1):\n",
        "        self.w = - 1 + 2 * np.random.rand(n_inputs)\n",
        "        self.b = - 1 + 2 * np.random.rand()\n",
        "        self.eta = learning_rate\n",
        "\n",
        "    def predict_proba(self, X):\n",
        "        Z = np.dot(self.w, X) + self.b\n",
        "        Y_est = 1/(1+np.exp(-Z))\n",
        "        return Y_est\n",
        "    \n",
        "    def predict(self, X):\n",
        "        Z = np.dot(self.w, X) + self.b\n",
        "        Y_est = 1/(1+np.exp(-Z))\n",
        "        return 1*(Y_est > 0.5)\n",
        "\n",
        "    def train(self, X, Y, epochs=1000):\n",
        "        p = X.shape[1]\n",
        "        for _ in range(epochs):\n",
        "            Y_est = self.predict_proba(X)\n",
        "            self.w += (self.eta/p) * np.dot((Y - Y_est), X.T).ravel()\n",
        "            self.b += (self.eta/p) * np.sum(Y - Y_est)"
      ],
      "execution_count": 26,
      "outputs": []
    },
    {
      "cell_type": "markdown",
      "metadata": {
        "id": "4ej1zGBku1HP"
      },
      "source": [
        "\n",
        "Vamos a leer una archivo llamado diabetes.csv"
      ]
    },
    {
      "cell_type": "markdown",
      "metadata": {
        "id": "ImgABoXIu5pm"
      },
      "source": [
        "Usaremos Pandas para poder leer el csv y poder eleguir nuestras variables"
      ]
    },
    {
      "cell_type": "code",
      "metadata": {
        "id": "idE5uQ_DtlW8",
        "colab": {
          "base_uri": "https://localhost:8080/"
        },
        "outputId": "dea7b686-6ef4-4b69-87b5-938b7898b42b"
      },
      "source": [
        "df = pd.read_csv('diabetes.csv')\n",
        "X = np.asanyarray(df.drop(columns=['Outcome'])).T\n",
        "Y = np.asanyarray(df[['Outcome']]).T.ravel()\n",
        "print(X.shape)\n",
        "print(Y.shape)"
      ],
      "execution_count": 27,
      "outputs": [
        {
          "output_type": "stream",
          "name": "stdout",
          "text": [
            "(8, 768)\n",
            "(768,)\n"
          ]
        }
      ]
    },
    {
      "cell_type": "markdown",
      "metadata": {
        "id": "oXFTGSHl08sz"
      },
      "source": [
        "Antes de entrenar es importante normalizar los datos"
      ]
    },
    {
      "cell_type": "code",
      "metadata": {
        "id": "EKwZzx7EwGL4"
      },
      "source": [
        "n, p = X.shape\n",
        "for i in range(n):\n",
        "  X[i,:] = (X[i,:]-X[i,:].min())/(X[i,:].max()-X[i,:].min())"
      ],
      "execution_count": 28,
      "outputs": []
    },
    {
      "cell_type": "markdown",
      "metadata": {
        "id": "dIh8qp9q1Gqt"
      },
      "source": [
        "Creamos nuestra neurona y entrenamos"
      ]
    },
    {
      "cell_type": "code",
      "metadata": {
        "id": "FhINdvjavQnZ"
      },
      "source": [
        "neuron = Logistic_Neuron(8, 0.4)\n",
        "neuron.train(X, Y, epochs=5000)"
      ],
      "execution_count": 30,
      "outputs": []
    },
    {
      "cell_type": "markdown",
      "metadata": {
        "id": "a6uQxoO11I-Q"
      },
      "source": [
        "Probamos aleatoriamente con patrones que conocemos"
      ]
    },
    {
      "cell_type": "code",
      "metadata": {
        "id": "QexdJeTkxBLP",
        "colab": {
          "base_uri": "https://localhost:8080/"
        },
        "outputId": "69dfdf5b-884b-4de5-8378-1c41a463318e"
      },
      "source": [
        "m = np.random.randint(p)\n",
        "print(m)\n",
        "print('Probabilidad: ')\n",
        "print(neuron.predict_proba(X[:, m]))\n",
        "print('Predicción: ')\n",
        "print(neuron.predict(X[:, m]))\n",
        "print('Valor Esperado: ')\n",
        "print(Y[m])"
      ],
      "execution_count": 34,
      "outputs": [
        {
          "output_type": "stream",
          "name": "stdout",
          "text": [
            "242\n",
            "Probabilidad: \n",
            "0.3029252314914541\n",
            "Predicción: \n",
            "0\n",
            "Valor Esperado: \n",
            "1\n"
          ]
        }
      ]
    },
    {
      "cell_type": "markdown",
      "metadata": {
        "id": "mhAxi8qY1N0e"
      },
      "source": [
        "Vamos a predecir para cada uno de los datos y saber la precisión de nuestras predicciones."
      ]
    },
    {
      "cell_type": "code",
      "metadata": {
        "id": "DIzBHpCzzW8o",
        "colab": {
          "base_uri": "https://localhost:8080/"
        },
        "outputId": "a2bd1f9a-2fc3-4c1b-e536-8262ed49ac57"
      },
      "source": [
        "Yest = np.zeros((p,))\n",
        "for i in range(p):\n",
        "  Yest[i]=neuron.predict(X[:,i])\n",
        "\n",
        "\n",
        "from sklearn.metrics import confusion_matrix\n",
        "from sklearn.metrics import accuracy_score\n",
        "print('Accuracy: ', accuracy_score(Y,Yest))\n",
        "print('Confusion matrix: \\n', confusion_matrix(Y,Yest))"
      ],
      "execution_count": 39,
      "outputs": [
        {
          "output_type": "stream",
          "name": "stdout",
          "text": [
            "Accuracy:  0.7825520833333334\n",
            "Confusion matrix: \n",
            " [[446  54]\n",
            " [113 155]]\n"
          ]
        }
      ]
    }
  ]
}