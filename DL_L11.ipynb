{
  "nbformat": 4,
  "nbformat_minor": 0,
  "metadata": {
    "colab": {
      "name": "DL_L11.ipynb",
      "provenance": [],
      "collapsed_sections": [],
      "include_colab_link": true
    },
    "kernelspec": {
      "name": "python3",
      "display_name": "Python 3"
    },
    "accelerator": "TPU"
  },
  "cells": [
    {
      "cell_type": "markdown",
      "metadata": {
        "id": "view-in-github",
        "colab_type": "text"
      },
      "source": [
        "<a href=\"https://colab.research.google.com/github/Dr-Carlos-Villasenor/TopicosAvanzadosComputacion2/blob/master/DL_L11.ipynb\" target=\"_parent\"><img src=\"https://colab.research.google.com/assets/colab-badge.svg\" alt=\"Open In Colab\"/></a>"
      ]
    },
    {
      "cell_type": "markdown",
      "metadata": {
        "id": "NyrN3A9os6_x",
        "colab_type": "text"
      },
      "source": [
        "# Tópicos Avanzados de Computación II\n",
        "## Dr. Carlos Villaseñor\n",
        "## Lección 11 - Modelos Secuenciales Parte I\n",
        "### Practica de generación de nombres con LSTM\n"
      ]
    },
    {
      "cell_type": "markdown",
      "metadata": {
        "id": "xCN8Gj6_xO8m",
        "colab_type": "text"
      },
      "source": [
        "Primeramente importamos las paqueterias necesarias"
      ]
    },
    {
      "cell_type": "code",
      "metadata": {
        "id": "xM2fchEuNu1Q",
        "colab_type": "code",
        "colab": {}
      },
      "source": [
        "import numpy as np\n",
        "from tensorflow import keras\n",
        "from keras.models import Sequential\n",
        "from keras.layers import Dense, Dropout, LSTM\n",
        "from keras.utils import np_utils\n",
        "from keras.callbacks import ModelCheckpoint\n",
        "from google.colab import files"
      ],
      "execution_count": 2,
      "outputs": []
    },
    {
      "cell_type": "markdown",
      "metadata": {
        "id": "J2dlt00uxZln",
        "colab_type": "text"
      },
      "source": [
        "Necesitaremos una base de datos de nombres para poder aprender a generarlos"
      ]
    },
    {
      "cell_type": "code",
      "metadata": {
        "id": "8zRzebGGN1nL",
        "colab_type": "code",
        "colab": {
          "resources": {
            "http://localhost:8080/nbextensions/google.colab/files.js": {
              "data": "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",
              "ok": true,
              "headers": [
                [
                  "content-type",
                  "application/javascript"
                ]
              ],
              "status": 200,
              "status_text": "OK"
            }
          },
          "base_uri": "https://localhost:8080/",
          "height": 73
        },
        "outputId": "0b5c6558-d560-47db-9d8c-0078b44478a1"
      },
      "source": [
        "uploaded = files.upload()"
      ],
      "execution_count": 3,
      "outputs": [
        {
          "output_type": "display_data",
          "data": {
            "text/html": [
              "\n",
              "     <input type=\"file\" id=\"files-775864ef-f76d-4138-8f46-410c3bf1baa1\" name=\"files[]\" multiple disabled\n",
              "        style=\"border:none\" />\n",
              "     <output id=\"result-775864ef-f76d-4138-8f46-410c3bf1baa1\">\n",
              "      Upload widget is only available when the cell has been executed in the\n",
              "      current browser session. Please rerun this cell to enable.\n",
              "      </output>\n",
              "      <script src=\"/nbextensions/google.colab/files.js\"></script> "
            ],
            "text/plain": [
              "<IPython.core.display.HTML object>"
            ]
          },
          "metadata": {
            "tags": []
          }
        },
        {
          "output_type": "stream",
          "text": [
            "Saving names.txt to names.txt\n"
          ],
          "name": "stdout"
        }
      ]
    },
    {
      "cell_type": "markdown",
      "metadata": {
        "id": "i0DPLP8gDoKm",
        "colab_type": "text"
      },
      "source": [
        "Vamos a abrir el archivo con conmbres y limpar un poco los datos"
      ]
    },
    {
      "cell_type": "code",
      "metadata": {
        "id": "f2cYzH68PdzN",
        "colab_type": "code",
        "colab": {
          "base_uri": "https://localhost:8080/",
          "height": 36
        },
        "outputId": "8fb820b6-25a3-4034-c2b6-88d6bacd0421"
      },
      "source": [
        "text = open('names.txt').read()\n",
        "text = text.lower()\n",
        "names = text.split('\\n')\n",
        "names = list(filter(lambda name: ' ' not in name, names))\n",
        "names = list(filter(lambda name: '-' not in name, names))\n",
        "names = list(filter(lambda name: \"'\" not in name, names))\n",
        "names = [name + '.' for name in names]\n",
        "names = np.random.permutation(names)\n",
        "print(names)"
      ],
      "execution_count": 4,
      "outputs": [
        {
          "output_type": "stream",
          "text": [
            "['gunther.' 'faydra.' 'taryn.' ... 'hammad.' 'avrit.' 'pryce.']\n"
          ],
          "name": "stdout"
        }
      ]
    },
    {
      "cell_type": "markdown",
      "metadata": {
        "id": "9s6SRyqzxlXo",
        "colab_type": "text"
      },
      "source": [
        "Vamos a crear un diccionario que con el cual podamos mapear de caracteres a números"
      ]
    },
    {
      "cell_type": "code",
      "metadata": {
        "id": "gu1L3wJDW7ME",
        "colab_type": "code",
        "colab": {
          "base_uri": "https://localhost:8080/",
          "height": 56
        },
        "outputId": "67974a45-f42d-4fa0-9b16-163b01311962"
      },
      "source": [
        "char_to_index = dict( (chr(i+96), i) for i in range(1,27))\n",
        "char_to_index[' '] = 0\n",
        "char_to_index['.'] = 27\n",
        "print(char_to_index)"
      ],
      "execution_count": 5,
      "outputs": [
        {
          "output_type": "stream",
          "text": [
            "{'a': 1, 'b': 2, 'c': 3, 'd': 4, 'e': 5, 'f': 6, 'g': 7, 'h': 8, 'i': 9, 'j': 10, 'k': 11, 'l': 12, 'm': 13, 'n': 14, 'o': 15, 'p': 16, 'q': 17, 'r': 18, 's': 19, 't': 20, 'u': 21, 'v': 22, 'w': 23, 'x': 24, 'y': 25, 'z': 26, ' ': 0, '.': 27}\n"
          ],
          "name": "stdout"
        }
      ]
    },
    {
      "cell_type": "markdown",
      "metadata": {
        "id": "-NkbMrURxuPp",
        "colab_type": "text"
      },
      "source": [
        "También necesitaremos el mapeo inverso"
      ]
    },
    {
      "cell_type": "code",
      "metadata": {
        "id": "IMYPBxBnXFAG",
        "colab_type": "code",
        "colab": {
          "base_uri": "https://localhost:8080/",
          "height": 56
        },
        "outputId": "8e452c46-6266-4393-a879-6508886155de"
      },
      "source": [
        "index_to_char = dict( (i, chr(i+96)) for i in range(1,27))\n",
        "index_to_char[0] = ' '\n",
        "index_to_char[27] = '.'\n",
        "print(index_to_char)"
      ],
      "execution_count": 6,
      "outputs": [
        {
          "output_type": "stream",
          "text": [
            "{1: 'a', 2: 'b', 3: 'c', 4: 'd', 5: 'e', 6: 'f', 7: 'g', 8: 'h', 9: 'i', 10: 'j', 11: 'k', 12: 'l', 13: 'm', 14: 'n', 15: 'o', 16: 'p', 17: 'q', 18: 'r', 19: 's', 20: 't', 21: 'u', 22: 'v', 23: 'w', 24: 'x', 25: 'y', 26: 'z', 0: ' ', 27: '.'}\n"
          ],
          "name": "stdout"
        }
      ]
    },
    {
      "cell_type": "markdown",
      "metadata": {
        "id": "Ip0pl9vVxx0X",
        "colab_type": "text"
      },
      "source": [
        "Calculemos el número de nombres y el tamaño máximo que un nombre puede tener"
      ]
    },
    {
      "cell_type": "code",
      "metadata": {
        "id": "Vwv9oeQeXVlB",
        "colab_type": "code",
        "colab": {
          "base_uri": "https://localhost:8080/",
          "height": 36
        },
        "outputId": "8f4920d2-72c8-4c03-f629-42b6d0e83987"
      },
      "source": [
        "num_names = len(names)\n",
        "max_name_size = len(max(names, key=len))\n",
        "num_chars = len(char_to_index)\n",
        "print(max_name_size)"
      ],
      "execution_count": 7,
      "outputs": [
        {
          "output_type": "stream",
          "text": [
            "14\n"
          ],
          "name": "stdout"
        }
      ]
    },
    {
      "cell_type": "markdown",
      "metadata": {
        "id": "7RCINyB0x9qo",
        "colab_type": "text"
      },
      "source": [
        "Vamos a códificar todos los nombres y a crear un dataset con los nombres y su retardo"
      ]
    },
    {
      "cell_type": "code",
      "metadata": {
        "id": "4e4plHOEX-5H",
        "colab_type": "code",
        "colab": {
          "base_uri": "https://localhost:8080/",
          "height": 36
        },
        "outputId": "fe17a7c6-f596-453f-e3c9-0a190ebe52e5"
      },
      "source": [
        "x = np.zeros((num_names, max_name_size, num_chars))\n",
        "y = np.zeros((num_names, max_name_size, num_chars))\n",
        "print(x.shape)\n",
        "\n",
        "for i, name in enumerate(names):\n",
        "  for j, c in enumerate(name):\n",
        "    x[i, j, char_to_index[name[j]]] = 1\n",
        "    if j < len(name)-1:\n",
        "      y[i, j, char_to_index[name[j+1]]] = 1"
      ],
      "execution_count": 8,
      "outputs": [
        {
          "output_type": "stream",
          "text": [
            "(7904, 14, 28)\n"
          ],
          "name": "stdout"
        }
      ]
    },
    {
      "cell_type": "markdown",
      "metadata": {
        "id": "fJFEO7izyFiX",
        "colab_type": "text"
      },
      "source": [
        "Intanciamos nuestra red recurrente LSTM"
      ]
    },
    {
      "cell_type": "code",
      "metadata": {
        "id": "FaC03d4TZcCP",
        "colab_type": "code",
        "colab": {
          "base_uri": "https://localhost:8080/",
          "height": 276
        },
        "outputId": "14682102-647b-478f-c142-2584c44dde4c"
      },
      "source": [
        "model = Sequential()\n",
        "model.add(LSTM(128, input_shape=(max_name_size, num_chars),return_sequences=True))\n",
        "model.add(Dropout(0.25))\n",
        "model.add(Dense(num_chars, activation='softmax'))\n",
        "\n",
        "model.compile(loss='categorical_crossentropy', optimizer='adam')\n",
        "model.summary()"
      ],
      "execution_count": 9,
      "outputs": [
        {
          "output_type": "stream",
          "text": [
            "Model: \"sequential\"\n",
            "_________________________________________________________________\n",
            "Layer (type)                 Output Shape              Param #   \n",
            "=================================================================\n",
            "lstm (LSTM)                  (None, 14, 128)           80384     \n",
            "_________________________________________________________________\n",
            "dropout (Dropout)            (None, 14, 128)           0         \n",
            "_________________________________________________________________\n",
            "dense (Dense)                (None, 14, 28)            3612      \n",
            "=================================================================\n",
            "Total params: 83,996\n",
            "Trainable params: 83,996\n",
            "Non-trainable params: 0\n",
            "_________________________________________________________________\n"
          ],
          "name": "stdout"
        }
      ]
    },
    {
      "cell_type": "markdown",
      "metadata": {
        "id": "neQ1MaTQyJqM",
        "colab_type": "text"
      },
      "source": [
        "Momento de entrenar!!"
      ]
    },
    {
      "cell_type": "code",
      "metadata": {
        "id": "Pp1uEp1jaR9t",
        "colab_type": "code",
        "colab": {
          "base_uri": "https://localhost:8080/",
          "height": 1000
        },
        "outputId": "a178c16c-6965-435d-f6d7-1dc4cdfddeae"
      },
      "source": [
        "model.fit(x, y, batch_size=128, epochs=100)"
      ],
      "execution_count": 10,
      "outputs": [
        {
          "output_type": "stream",
          "text": [
            "Epoch 1/100\n",
            "62/62 [==============================] - 2s 38ms/step - loss: 1.2576\n",
            "Epoch 2/100\n",
            "62/62 [==============================] - 2s 38ms/step - loss: 1.1328\n",
            "Epoch 3/100\n",
            "62/62 [==============================] - 2s 38ms/step - loss: 1.0877\n",
            "Epoch 4/100\n",
            "62/62 [==============================] - 2s 37ms/step - loss: 1.0372\n",
            "Epoch 5/100\n",
            "62/62 [==============================] - 2s 38ms/step - loss: 0.9917\n",
            "Epoch 6/100\n",
            "62/62 [==============================] - 2s 38ms/step - loss: 0.9601\n",
            "Epoch 7/100\n",
            "62/62 [==============================] - 2s 37ms/step - loss: 0.9372\n",
            "Epoch 8/100\n",
            "62/62 [==============================] - 2s 37ms/step - loss: 0.9226\n",
            "Epoch 9/100\n",
            "62/62 [==============================] - 2s 38ms/step - loss: 0.9085\n",
            "Epoch 10/100\n",
            "62/62 [==============================] - 2s 38ms/step - loss: 0.8982\n",
            "Epoch 11/100\n",
            "62/62 [==============================] - 2s 38ms/step - loss: 0.8884\n",
            "Epoch 12/100\n",
            "62/62 [==============================] - 2s 38ms/step - loss: 0.8806\n",
            "Epoch 13/100\n",
            "62/62 [==============================] - 2s 38ms/step - loss: 0.8740\n",
            "Epoch 14/100\n",
            "62/62 [==============================] - 2s 37ms/step - loss: 0.8668\n",
            "Epoch 15/100\n",
            "62/62 [==============================] - 2s 37ms/step - loss: 0.8612\n",
            "Epoch 16/100\n",
            "62/62 [==============================] - 2s 38ms/step - loss: 0.8546\n",
            "Epoch 17/100\n",
            "62/62 [==============================] - 2s 37ms/step - loss: 0.8503\n",
            "Epoch 18/100\n",
            "62/62 [==============================] - 2s 37ms/step - loss: 0.8448\n",
            "Epoch 19/100\n",
            "62/62 [==============================] - 2s 38ms/step - loss: 0.8395\n",
            "Epoch 20/100\n",
            "62/62 [==============================] - 2s 38ms/step - loss: 0.8378\n",
            "Epoch 21/100\n",
            "62/62 [==============================] - 2s 38ms/step - loss: 0.8318\n",
            "Epoch 22/100\n",
            "62/62 [==============================] - 2s 38ms/step - loss: 0.8273\n",
            "Epoch 23/100\n",
            "62/62 [==============================] - 2s 38ms/step - loss: 0.8221\n",
            "Epoch 24/100\n",
            "62/62 [==============================] - 2s 38ms/step - loss: 0.8191\n",
            "Epoch 25/100\n",
            "62/62 [==============================] - 2s 38ms/step - loss: 0.8148\n",
            "Epoch 26/100\n",
            "62/62 [==============================] - 2s 37ms/step - loss: 0.8117\n",
            "Epoch 27/100\n",
            "62/62 [==============================] - 2s 38ms/step - loss: 0.8075\n",
            "Epoch 28/100\n",
            "62/62 [==============================] - 2s 38ms/step - loss: 0.8018\n",
            "Epoch 29/100\n",
            "62/62 [==============================] - 2s 38ms/step - loss: 0.7997\n",
            "Epoch 30/100\n",
            "62/62 [==============================] - 2s 39ms/step - loss: 0.7965\n",
            "Epoch 31/100\n",
            "62/62 [==============================] - 2s 39ms/step - loss: 0.7936\n",
            "Epoch 32/100\n",
            "62/62 [==============================] - 2s 38ms/step - loss: 0.7895\n",
            "Epoch 33/100\n",
            "62/62 [==============================] - 2s 38ms/step - loss: 0.7886\n",
            "Epoch 34/100\n",
            "62/62 [==============================] - 2s 37ms/step - loss: 0.7840\n",
            "Epoch 35/100\n",
            "62/62 [==============================] - 2s 38ms/step - loss: 0.7792\n",
            "Epoch 36/100\n",
            "62/62 [==============================] - 2s 37ms/step - loss: 0.7753\n",
            "Epoch 37/100\n",
            "62/62 [==============================] - 2s 38ms/step - loss: 0.7738\n",
            "Epoch 38/100\n",
            "62/62 [==============================] - 2s 38ms/step - loss: 0.7710\n",
            "Epoch 39/100\n",
            "62/62 [==============================] - 2s 38ms/step - loss: 0.7666\n",
            "Epoch 40/100\n",
            "62/62 [==============================] - 2s 38ms/step - loss: 0.7652\n",
            "Epoch 41/100\n",
            "62/62 [==============================] - 2s 37ms/step - loss: 0.7630\n",
            "Epoch 42/100\n",
            "62/62 [==============================] - 2s 38ms/step - loss: 0.7601\n",
            "Epoch 43/100\n",
            "62/62 [==============================] - 2s 38ms/step - loss: 0.7566\n",
            "Epoch 44/100\n",
            "62/62 [==============================] - 2s 38ms/step - loss: 0.7544\n",
            "Epoch 45/100\n",
            "62/62 [==============================] - 2s 37ms/step - loss: 0.7520\n",
            "Epoch 46/100\n",
            "62/62 [==============================] - 2s 37ms/step - loss: 0.7493\n",
            "Epoch 47/100\n",
            "62/62 [==============================] - 2s 37ms/step - loss: 0.7474\n",
            "Epoch 48/100\n",
            "62/62 [==============================] - 2s 37ms/step - loss: 0.7433\n",
            "Epoch 49/100\n",
            "62/62 [==============================] - 2s 38ms/step - loss: 0.7408\n",
            "Epoch 50/100\n",
            "62/62 [==============================] - 2s 38ms/step - loss: 0.7396\n",
            "Epoch 51/100\n",
            "62/62 [==============================] - 2s 38ms/step - loss: 0.7366\n",
            "Epoch 52/100\n",
            "62/62 [==============================] - 2s 37ms/step - loss: 0.7345\n",
            "Epoch 53/100\n",
            "62/62 [==============================] - 2s 37ms/step - loss: 0.7326\n",
            "Epoch 54/100\n",
            "62/62 [==============================] - 2s 37ms/step - loss: 0.7302\n",
            "Epoch 55/100\n",
            "62/62 [==============================] - 2s 37ms/step - loss: 0.7288\n",
            "Epoch 56/100\n",
            "62/62 [==============================] - 2s 38ms/step - loss: 0.7259\n",
            "Epoch 57/100\n",
            "62/62 [==============================] - 2s 38ms/step - loss: 0.7249\n",
            "Epoch 58/100\n",
            "62/62 [==============================] - 2s 38ms/step - loss: 0.7222\n",
            "Epoch 59/100\n",
            "62/62 [==============================] - 2s 38ms/step - loss: 0.7221\n",
            "Epoch 60/100\n",
            "62/62 [==============================] - 2s 38ms/step - loss: 0.7182\n",
            "Epoch 61/100\n",
            "62/62 [==============================] - 2s 37ms/step - loss: 0.7161\n",
            "Epoch 62/100\n",
            "62/62 [==============================] - 2s 37ms/step - loss: 0.7134\n",
            "Epoch 63/100\n",
            "62/62 [==============================] - 2s 38ms/step - loss: 0.7108\n",
            "Epoch 64/100\n",
            "62/62 [==============================] - 2s 38ms/step - loss: 0.7090\n",
            "Epoch 65/100\n",
            "62/62 [==============================] - 2s 38ms/step - loss: 0.7071\n",
            "Epoch 66/100\n",
            "62/62 [==============================] - 2s 38ms/step - loss: 0.7066\n",
            "Epoch 67/100\n",
            "62/62 [==============================] - 2s 38ms/step - loss: 0.7039\n",
            "Epoch 68/100\n",
            "62/62 [==============================] - 2s 38ms/step - loss: 0.7031\n",
            "Epoch 69/100\n",
            "62/62 [==============================] - 2s 37ms/step - loss: 0.7026\n",
            "Epoch 70/100\n",
            "62/62 [==============================] - 2s 38ms/step - loss: 0.6988\n",
            "Epoch 71/100\n",
            "62/62 [==============================] - 2s 38ms/step - loss: 0.6982\n",
            "Epoch 72/100\n",
            "62/62 [==============================] - 2s 37ms/step - loss: 0.6973\n",
            "Epoch 73/100\n",
            "62/62 [==============================] - 2s 38ms/step - loss: 0.6955\n",
            "Epoch 74/100\n",
            "62/62 [==============================] - 2s 38ms/step - loss: 0.6920\n",
            "Epoch 75/100\n",
            "62/62 [==============================] - 2s 38ms/step - loss: 0.6938\n",
            "Epoch 76/100\n",
            "62/62 [==============================] - 2s 38ms/step - loss: 0.6894\n",
            "Epoch 77/100\n",
            "62/62 [==============================] - 2s 38ms/step - loss: 0.6890\n",
            "Epoch 78/100\n",
            "62/62 [==============================] - 2s 38ms/step - loss: 0.6884\n",
            "Epoch 79/100\n",
            "62/62 [==============================] - 2s 38ms/step - loss: 0.6863\n",
            "Epoch 80/100\n",
            "62/62 [==============================] - 2s 38ms/step - loss: 0.6829\n",
            "Epoch 81/100\n",
            "62/62 [==============================] - 2s 37ms/step - loss: 0.6826\n",
            "Epoch 82/100\n",
            "62/62 [==============================] - 2s 38ms/step - loss: 0.6829\n",
            "Epoch 83/100\n",
            "62/62 [==============================] - 2s 38ms/step - loss: 0.6794\n",
            "Epoch 84/100\n",
            "62/62 [==============================] - 2s 38ms/step - loss: 0.6774\n",
            "Epoch 85/100\n",
            "62/62 [==============================] - 2s 38ms/step - loss: 0.6773\n",
            "Epoch 86/100\n",
            "62/62 [==============================] - 2s 38ms/step - loss: 0.6768\n",
            "Epoch 87/100\n",
            "62/62 [==============================] - 2s 38ms/step - loss: 0.6758\n",
            "Epoch 88/100\n",
            "62/62 [==============================] - 2s 37ms/step - loss: 0.6727\n",
            "Epoch 89/100\n",
            "62/62 [==============================] - 2s 38ms/step - loss: 0.6728\n",
            "Epoch 90/100\n",
            "62/62 [==============================] - 2s 38ms/step - loss: 0.6702\n",
            "Epoch 91/100\n",
            "62/62 [==============================] - 2s 38ms/step - loss: 0.6682\n",
            "Epoch 92/100\n",
            "62/62 [==============================] - 2s 37ms/step - loss: 0.6694\n",
            "Epoch 93/100\n",
            "62/62 [==============================] - 2s 38ms/step - loss: 0.6692\n",
            "Epoch 94/100\n",
            "62/62 [==============================] - 2s 38ms/step - loss: 0.6670\n",
            "Epoch 95/100\n",
            "62/62 [==============================] - 2s 38ms/step - loss: 0.6662\n",
            "Epoch 96/100\n",
            "62/62 [==============================] - 2s 38ms/step - loss: 0.6639\n",
            "Epoch 97/100\n",
            "62/62 [==============================] - 2s 38ms/step - loss: 0.6629\n",
            "Epoch 98/100\n",
            "62/62 [==============================] - 2s 38ms/step - loss: 0.6616\n",
            "Epoch 99/100\n",
            "62/62 [==============================] - 2s 38ms/step - loss: 0.6607\n",
            "Epoch 100/100\n",
            "62/62 [==============================] - 2s 38ms/step - loss: 0.6619\n"
          ],
          "name": "stdout"
        },
        {
          "output_type": "execute_result",
          "data": {
            "text/plain": [
              "<tensorflow.python.keras.callbacks.History at 0x7fba6e5feb38>"
            ]
          },
          "metadata": {
            "tags": []
          },
          "execution_count": 10
        }
      ]
    },
    {
      "cell_type": "markdown",
      "metadata": {
        "id": "08294VgKyOSc",
        "colab_type": "text"
      },
      "source": [
        "El modelo está entrenado, pero ¿Cómo generamos nombres?!!\n",
        "\n",
        "Para esto está el código siguiente!!\n"
      ]
    },
    {
      "cell_type": "code",
      "metadata": {
        "id": "u1JqbJJ2fA5R",
        "colab_type": "code",
        "colab": {
          "base_uri": "https://localhost:8080/",
          "height": 54
        },
        "outputId": "b599934a-3aac-443c-9cee-f4578ea2d899"
      },
      "source": [
        "# Correr un ejemplo\n",
        "name = ''\n",
        "x = np.zeros((1,max_name_size, num_chars))\n",
        "first = True\n",
        "end = False\n",
        "i = 0\n",
        "while end==False:\n",
        "  if first == True:\n",
        "    probs = list(model.predict(x)[0,i])[1:-1]\n",
        "    probs = probs/ np.sum(probs)\n",
        "    index = np.random.choice(range(1,num_chars-1),p=probs)\n",
        "    first = False\n",
        "  else:\n",
        "    probs = list(model.predict(x)[0,i])\n",
        "    probs = probs/ np.sum(probs)\n",
        "    index = np.random.choice(range(num_chars),p=probs)\n",
        "  if i == max_name_size-1:\n",
        "    break\n",
        "    character = '.'\n",
        "    end = True\n",
        "  else:\n",
        "    character = index_to_char[index]\n",
        "  name += character\n",
        "  x[0, i+1, index] = 1\n",
        "  i += 1\n",
        "  if character == '.':\n",
        "    end = True\n",
        "\n",
        "print(name.capitalize())\n",
        "print('Memorized: ', name in names)"
      ],
      "execution_count": 24,
      "outputs": [
        {
          "output_type": "stream",
          "text": [
            "Edtre.\n",
            "Memorized:  False\n"
          ],
          "name": "stdout"
        }
      ]
    }
  ]
}