{
  "nbformat": 4,
  "nbformat_minor": 0,
  "metadata": {
    "colab": {
      "name": "L01.P01.ipynb",
      "provenance": []
    },
    "kernelspec": {
      "name": "python3",
      "display_name": "Python 3"
    }
  },
  "cells": [
    {
      "cell_type": "markdown",
      "metadata": {
        "id": "NyrN3A9os6_x",
        "colab_type": "text"
      },
      "source": [
        "#Tópicos Avanzados de Computación II\n",
        "##Dr. Carlos Villaseñor\n",
        "##Lección 1 - Introducción a Redes Neuronales Artificiales\n",
        "### Programación del Perceptrón, aproximación de compuertas lógicas y clasificación de sobrepeso"
      ]
    },
    {
      "cell_type": "markdown",
      "metadata": {
        "id": "G7IFh4oYvEMO",
        "colab_type": "text"
      },
      "source": [
        "Importamos Numpy"
      ]
    },
    {
      "cell_type": "code",
      "metadata": {
        "id": "JtLg2tLAvG6R",
        "colab_type": "code",
        "colab": {}
      },
      "source": [
        "import numpy as np\n",
        "import matplotlib.pyplot as plt"
      ],
      "execution_count": 0,
      "outputs": []
    },
    {
      "cell_type": "markdown",
      "metadata": {
        "id": "Lci6Raq5usJq",
        "colab_type": "text"
      },
      "source": [
        "Primeramente programamos nuestro perceptrón"
      ]
    },
    {
      "cell_type": "code",
      "metadata": {
        "id": "hGdLqKX1uFmx",
        "colab_type": "code",
        "colab": {}
      },
      "source": [
        "class Perceptron:\n",
        "\n",
        "  def __init__(self, n_inputs, learning_rate):\n",
        "    self.w = - 1 + 2 * np.random.rand(n_inputs)\n",
        "    self.b = - 1 + 2 * np.random.rand()\n",
        "    self.eta = learning_rate\n",
        "\n",
        "  def predict(self, X):\n",
        "    _, p = X.shape\n",
        "    y_est = np.zeros(p)\n",
        "    for i in range(p):\n",
        "      y_est[i] = np.dot(self.w, X[:,i])+self.b\n",
        "      if y_est[i] >= 0:\n",
        "        y_est[i]=1\n",
        "      else:\n",
        "        y_est[i]=0\n",
        "    return y_est\n",
        "\n",
        "  def fit(self, X, Y, epochs=50):\n",
        "    _, p = X.shape\n",
        "    for _ in range(epochs):\n",
        "      for i in range(p):\n",
        "        y_est = self.predict(X[:,i].reshape(-1,1))\n",
        "        self.w += self.eta * (Y[i]-y_est) * X[:,i]\n",
        "        self.b += self.eta * (Y[i]-y_est)\n",
        "\n",
        "def draw_2d_percep(model):\n",
        "  w1, w2, b = model.w[0], model.w[1], model.b \n",
        "  plt.plot([-2, 2],[(1/w2)*(-w1*(-2)-b),(1/w2)*(-w1*2-b)],'--k')"
      ],
      "execution_count": 0,
      "outputs": []
    },
    {
      "cell_type": "markdown",
      "metadata": {
        "id": "M0uA1DSm0NA5",
        "colab_type": "text"
      },
      "source": [
        "Entrenamos el modelo con la tabla de una compuerta lógica"
      ]
    },
    {
      "cell_type": "code",
      "metadata": {
        "id": "AdwjqANjvp-d",
        "colab_type": "code",
        "colab": {
          "base_uri": "https://localhost:8080/",
          "height": 297
        },
        "outputId": "7a198ecc-291e-41d1-a531-b9d0654610be"
      },
      "source": [
        "# Instanciar el modelo\n",
        "model = Perceptron(2, 0.1)\n",
        "\n",
        "# Datos\n",
        "X = np.array([[0, 0, 1, 1],\n",
        "              [0, 1, 0, 1]])\n",
        "Y = np.array([0, 0, 0, 1])\n",
        "\n",
        "# Entrenar\n",
        "model.fit(X,Y)\n",
        "\n",
        "# Predicción\n",
        "model.predict(X)\n",
        "\n",
        "# Primero dibujemos los puntos\n",
        "_, p = X.shape\n",
        "for i in range(p):\n",
        "  if Y[i] == 0:\n",
        "    plt.plot(X[0,i],X[1,i], 'or')\n",
        "  else:\n",
        "    plt.plot(X[0,i],X[1,i], 'ob')\n",
        "\n",
        "plt.title('Perceptrón')\n",
        "plt.grid('on')\n",
        "plt.xlim([-2,2])\n",
        "plt.ylim([-2,2])\n",
        "plt.xlabel(r'$x_1$')\n",
        "plt.ylabel(r'$x_2$')\n",
        "\n",
        "draw_2d_percep(model)"
      ],
      "execution_count": 88,
      "outputs": [
        {
          "output_type": "display_data",
          "data": {
            "image/png": "[encoded data removed]",
            "text/plain": [
              "<Figure size 432x288 with 1 Axes>"
            ]
          },
          "metadata": {
            "tags": [],
            "needs_background": "light"
          }
        }
      ]
    }
  ]
}
