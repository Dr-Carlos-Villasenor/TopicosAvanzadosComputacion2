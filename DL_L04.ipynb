{
  "nbformat": 4,
  "nbformat_minor": 0,
  "metadata": {
    "colab": {
      "name": "DL_L04.ipynb",
      "provenance": [],
      "collapsed_sections": []
    },
    "kernelspec": {
      "name": "python3",
      "display_name": "Python 3"
    }
  },
  "cells": [
    {
      "cell_type": "markdown",
      "metadata": {
        "id": "tzvK-r7-OArK",
        "colab_type": "text"
      },
      "source": [
        "#Tópicos Avanzados de Computación II\n",
        "##Dr. Carlos Villaseñor\n",
        "##Lección 4 - Redes neuronales multicapa"
      ]
    },
    {
      "cell_type": "markdown",
      "metadata": {
        "id": "FQFEkeMcOHx9",
        "colab_type": "text"
      },
      "source": [
        "A continuación la clase de la red neuronal de una capa (que se explicó en clase)"
      ]
    },
    {
      "cell_type": "code",
      "metadata": {
        "id": "n2aFyCrjN9AZ",
        "colab_type": "code",
        "colab": {}
      },
      "source": [
        "\"\"\"\n",
        "Multilayer Perceptron\n",
        "Dr. Carlos Villaseñor\n",
        "\"\"\"\n",
        "\n",
        "# Packages\n",
        "import numpy as np\n",
        "\n",
        "def linear(z, derivative=False):\n",
        "    a = z\n",
        "    if derivative:\n",
        "        da = 1\n",
        "        return a, da\n",
        "    return a\n",
        "\n",
        "\n",
        "def sigmoid(z, derivative=False):\n",
        "    a = 1/(1+np.exp(-z))\n",
        "    if derivative:\n",
        "        da = a * (1 - a)\n",
        "        return a, da\n",
        "    return a\n",
        "\n",
        "\n",
        "def tanh(z, derivative=False):\n",
        "    a = np.tanh(z)\n",
        "    if derivative:\n",
        "        da = (1 - a) * (1 + a)\n",
        "        return a, da\n",
        "    return a\n",
        "\n",
        "\n",
        "def relu(z, derivative=False):\n",
        "    a = z * (z >= 0)\n",
        "    if derivative:\n",
        "        da = np.array(z >= 0, dtype=float)\n",
        "        return a, da\n",
        "    return a\n",
        "\n",
        "class MLP:\n",
        "\n",
        "    def __init__(self, layers_dims, \n",
        "                 hidden_activation=relu,\n",
        "                 output_activation=sigmoid,\n",
        "                 learning_rate=0.1):\n",
        "\n",
        "        # Instance Attributes\n",
        "        self.L = len(layers_dims) - 1\n",
        "        self.w = [None] * (self.L + 1)\n",
        "        self.b = [None] * (self.L + 1)\n",
        "        self.f = [None] * (self.L + 1)\n",
        "        self.layers = layers_dims\n",
        "        self.eta = learning_rate\n",
        "\n",
        "        # Initialize weights\n",
        "        for l in range(1, self.L + 1):\n",
        "            self.w[l] = -1 + 2 * np.random.rand(layers_dims[l], layers_dims[l-1])\n",
        "            self.b[l] = -1 + 2 * np.random.rand(layers_dims[l], 1)\n",
        "            \n",
        "            if l == self.L:\n",
        "                self.f[l] = output_activation\n",
        "            else:\n",
        "                self.f[l] = hidden_activation\n",
        "                \n",
        "\n",
        "    def predict(self, X):\n",
        "        a = np.asanyarray(X)\n",
        "        for l in range(1, self.L + 1):\n",
        "            z = np.dot(self.w[l], a) + self.b[l]\n",
        "            a = self.f[l](z)\n",
        "        return a\n",
        "\n",
        "    def fit(self, X, Y, epochs=100):\n",
        "\n",
        "        # Number of samples\n",
        "        P = X.shape[1]\n",
        "\n",
        "        #Gradient Descent\n",
        "        for _ in range(epochs):\n",
        "            for p in range(P):\n",
        "\n",
        "                # Initialize activations and their derivatives\n",
        "                a = [None] * (self.L + 1)\n",
        "                da = [None] * (self.L + 1)\n",
        "                lg = [None] * (self.L + 1)\n",
        "                \n",
        "                # Propagation\n",
        "                a[0] = X[:, p].reshape(self.layers[0], 1)\n",
        "                for l in range(1, self.L + 1):\n",
        "                    z = np.dot(self.w[l], a[l-1]) + self.b[l]\n",
        "                    a[l], da[l] = self.f[l](z, derivative=True)\n",
        "\n",
        "                # Backpropagation\n",
        "                for l in range(self.L, 0, -1):\n",
        "                    # Calculate local gradient (lg)\n",
        "                    if l == self.L:\n",
        "                        lg[l] = (Y[:, p] - a[l]) * da[l]\n",
        "                    else:\n",
        "                        lg[l] = np.dot(self.w[l + 1].T, lg[l+1]) * da[l]\n",
        "                        \n",
        "                # Update parameters\n",
        "                for l in range(1, self.L + 1):\n",
        "                    self.w[l] += self.eta * np.dot(lg[l], a[l - 1].T)\n",
        "                    self.b[l] += self.eta * lg[l]"
      ],
      "execution_count": 6,
      "outputs": []
    },
    {
      "cell_type": "markdown",
      "metadata": {
        "id": "LtxT--GRRybP",
        "colab_type": "text"
      },
      "source": [
        "Para su actividad necesitarán esta función para dibujar"
      ]
    },
    {
      "cell_type": "code",
      "metadata": {
        "id": "rD0DOfIkSC5n",
        "colab_type": "code",
        "colab": {}
      },
      "source": [
        "import matplotlib.pyplot as plt\n",
        "\n",
        "def MLP_binary_classification_2d(X,Y,net):\n",
        "    plt.figure()\n",
        "    for i in range(X.shape[1]):\n",
        "        if Y[0,i]==0:\n",
        "            plt.plot(X[0,i], X[1,i], '.r')\n",
        "        else:\n",
        "            plt.plot(X[0,i], X[1,i], '.b')\n",
        "    xmin, ymin=np.min(X[0,:])-0.5, np.min(X[1,:])-0.5\n",
        "    xmax, ymax=np.max(X[0,:])+0.5, np.max(X[1,:])+0.5\n",
        "    xx, yy = np.meshgrid(np.linspace(xmin,xmax,100), \n",
        "                         np.linspace(ymin,ymax,100))\n",
        "    data = [xx.ravel(), yy.ravel()]\n",
        "    zz = net.predict(data)\n",
        "    zz = zz.reshape(xx.shape)\n",
        "    plt.contourf(xx,yy,zz, alpha=0.8, \n",
        "                 cmap=plt.cm.RdBu)\n",
        "    plt.xlim([xmin,xmax])\n",
        "    plt.ylim([ymin,ymax])\n",
        "    plt.grid()\n",
        "    plt.show()"
      ],
      "execution_count": 8,
      "outputs": []
    },
    {
      "cell_type": "markdown",
      "metadata": {
        "id": "eC66u3KCZMDv",
        "colab_type": "text"
      },
      "source": [
        "Vamos a crear el dataset para el problema XOR"
      ]
    },
    {
      "cell_type": "code",
      "metadata": {
        "id": "lQtSoWC3ZRgo",
        "colab_type": "code",
        "colab": {}
      },
      "source": [
        "X = np.array([[0, 0, 1, 1],\n",
        "              [0, 1, 0, 1]])\n",
        "Y = np.array([[1, 0, 0, 1]]) "
      ],
      "execution_count": 10,
      "outputs": []
    },
    {
      "cell_type": "markdown",
      "metadata": {
        "id": "LvEZ7LNjZSCG",
        "colab_type": "text"
      },
      "source": [
        "Dibujemos primeramente que nos da la red neuronal sin entrenar"
      ]
    },
    {
      "cell_type": "code",
      "metadata": {
        "id": "NE_RkILXYkPm",
        "colab_type": "code",
        "colab": {
          "base_uri": "https://localhost:8080/",
          "height": 287
        },
        "outputId": "6452d63d-e3ee-4fff-a331-8161b454ca1b"
      },
      "source": [
        "net = MLP((2,100,1), learning_rate=0.2)\n",
        "print(net.predict(X))\n",
        "MLP_binary_classification_2d(X,Y,net)"
      ],
      "execution_count": 12,
      "outputs": [
        {
          "output_type": "stream",
          "text": [
            "[[0.50770134 0.38376611 0.75332429 0.59184822]]\n"
          ],
          "name": "stdout"
        },
        {
          "output_type": "display_data",
          "data": {
            "image/png": "[encoded data removed]",
            "text/plain": [
              "<Figure size 432x288 with 1 Axes>"
            ]
          },
          "metadata": {
            "tags": [],
            "needs_background": "light"
          }
        }
      ]
    },
    {
      "cell_type": "markdown",
      "metadata": {
        "id": "WuoAYlaTZhV1",
        "colab_type": "text"
      },
      "source": [
        "Ahora vamos a entrenar!!"
      ]
    },
    {
      "cell_type": "code",
      "metadata": {
        "id": "P5JVbnY3Zk-A",
        "colab_type": "code",
        "colab": {
          "base_uri": "https://localhost:8080/",
          "height": 287
        },
        "outputId": "011cba8e-9656-4d7b-f6bf-7b46e79d0127"
      },
      "source": [
        "net.fit(X, Y)\n",
        "print(net.predict(X))\n",
        "MLP_binary_classification_2d(X,Y,net)"
      ],
      "execution_count": 13,
      "outputs": [
        {
          "output_type": "stream",
          "text": [
            "[[0.91827598 0.07622993 0.07743397 0.9291396 ]]\n"
          ],
          "name": "stdout"
        },
        {
          "output_type": "display_data",
          "data": {
            "image/png": "[encoded data removed]",
            "text/plain": [
              "<Figure size 432x288 with 1 Axes>"
            ]
          },
          "metadata": {
            "tags": [],
            "needs_background": "light"
          }
        }
      ]
    }
  ]
}