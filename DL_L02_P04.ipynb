{
  "nbformat": 4,
  "nbformat_minor": 0,
  "metadata": {
    "colab": {
      "name": "DL_L02_P04.ipynb",
      "provenance": [],
      "collapsed_sections": [],
      "authorship_tag": "ABX9TyNaLOFhS06MqGoioGsKV+Gk",
      "include_colab_link": true
    },
    "kernelspec": {
      "name": "python3",
      "display_name": "Python 3"
    }
  },
  "cells": [
    {
      "cell_type": "markdown",
      "metadata": {
        "id": "view-in-github",
        "colab_type": "text"
      },
      "source": [
        "<a href=\"https://colab.research.google.com/github/Dr-Carlos-Villasenor/TopicosAvanzadosComputacion2/blob/master/DL_L02_P04.ipynb\" target=\"_parent\"><img src=\"https://colab.research.google.com/assets/colab-badge.svg\" alt=\"Open In Colab\"/></a>"
      ]
    },
    {
      "cell_type": "markdown",
      "metadata": {
        "id": "NyrN3A9os6_x"
      },
      "source": [
        "#Tópicos Avanzados de Computación II\n",
        "##Dr. Carlos Villaseñor\n",
        "##Lección 2 - Redes neuronales de una sola neurona\n",
        "### Programación de regla delta una neurona"
      ]
    },
    {
      "cell_type": "markdown",
      "metadata": {
        "id": "O6aTMb5Qus37"
      },
      "source": [
        "Primeramente importemos unos paquetes importantes"
      ]
    },
    {
      "cell_type": "code",
      "metadata": {
        "id": "JtLg2tLAvG6R"
      },
      "source": [
        "import numpy as np"
      ],
      "execution_count": 1,
      "outputs": []
    },
    {
      "cell_type": "code",
      "source": [
        "def linear(z, derivative=False):\n",
        "    a = z\n",
        "    if derivative:\n",
        "        da = np.ones(z.shape)\n",
        "        return a, da\n",
        "    return a\n",
        "\n",
        "\n",
        "def logistic(z, derivative=False):\n",
        "    a = 1/(1 + np.exp(-z))\n",
        "    if derivative:\n",
        "        da = a * (1 - a)\n",
        "        return a, da\n",
        "    return a\n",
        "\n",
        "\n",
        "def tanh(z, derivative=False):\n",
        "    a = np.tanh(z)\n",
        "    if derivative:\n",
        "        da = (1 - a) * (1 + a)\n",
        "        return a, da\n",
        "    return a\n",
        "\n",
        "\n",
        "def relu(z, derivative=False):\n",
        "    a = z * (z >= 0) \n",
        "    if derivative:\n",
        "        da = np.array(z >= 0, dtype=float)\n",
        "        return a, da\n",
        "    return a"
      ],
      "metadata": {
        "id": "Klpwqg1xoOeE"
      },
      "execution_count": 2,
      "outputs": []
    },
    {
      "cell_type": "code",
      "metadata": {
        "id": "hGdLqKX1uFmx"
      },
      "source": [
        "class neuron:\n",
        "\n",
        "    def __init__(self, n_inputs, \n",
        "                 activation_funtion=linear, learning_rate=0.1):\n",
        "        self.w = - 1 + 2 * np.random.rand(n_inputs)\n",
        "        self.b = - 1 + 2 * np.random.rand()\n",
        "        self.eta = learning_rate\n",
        "        self.f = activation_funtion\n",
        "\n",
        "    def predict(self, X):\n",
        "        Z = np.dot(self.w, X) + self.b\n",
        "        return self.f(Z)\n",
        "\n",
        "    def train(self, X, Y, L2=0, epochs=1000):\n",
        "        \n",
        "        p = X.shape[1]\n",
        "        for _ in range(epochs):\n",
        "            \n",
        "            # Propagation ----------------------------------------------------- \n",
        "            Z = np.dot(self.w, X) + self.b\n",
        "            Yest, dY = self.f(Z, derivative=True)\n",
        "            \n",
        "            # Training --------------------------------------------------------\n",
        "            \n",
        "            # Calculate local gradient\n",
        "            lg = (Y - Yest) * dY \n",
        "            \n",
        "            # Update parameters\n",
        "            self.w = (1 - L2*self.eta) * self.w + (self.eta/p) * np.dot(lg, X.T).ravel()\n",
        "            self.b += (self.eta/p) * np.sum(lg)\n"
      ],
      "execution_count": 7,
      "outputs": []
    },
    {
      "cell_type": "code",
      "source": [
        "import matplotlib.pyplot as plt\n",
        "\n",
        "X = np.array([[0, 0, 1, 1],\n",
        "                  [0, 1, 0, 1]])\n",
        "Y = np.array([[0, 0, 0, 1]])\n",
        "\n",
        "\n",
        "neuron = neuron(2, logistic, 1)\n",
        "print(neuron.predict(X))\n",
        "\n",
        "neuron.train(X,Y, epochs=1000)\n",
        "\n",
        "print(neuron.predict(X))\n",
        "    \n",
        "p = X.shape[1]\n",
        "for i in range(p):\n",
        "    if Y[0,i] == 0:\n",
        "        plt.plot(X[0,i], X[1,i], 'or')\n",
        "    else:\n",
        "        plt.plot(X[0,i], X[1,i], 'ob')\n",
        "            \n",
        "w1, w2, b = neuron.w[0], neuron.w[1], neuron.b \n",
        "plt.plot([-2, 2],[(1/w2)*(-w1*(-2)-b),(1/w2)*(-w1*2-b)],'--k')\n",
        "\n",
        "plt.xlim([-1,2])\n",
        "plt.ylim([-1,2])\n",
        "plt.xlabel(r'$x_1$')\n",
        "plt.ylabel(r'$x_2$')"
      ],
      "metadata": {
        "colab": {
          "base_uri": "https://localhost:8080/",
          "height": 341
        },
        "id": "Kfaw7fLqme0T",
        "outputId": "f8839588-e159-42c6-eea4-6dc4fc5b4980"
      },
      "execution_count": 4,
      "outputs": [
        {
          "output_type": "stream",
          "name": "stdout",
          "text": [
            "[0.3665836  0.17891944 0.28555504 0.13080551]\n",
            "[0.00325467 0.12147064 0.12147227 0.85411728]\n"
          ]
        },
        {
          "output_type": "execute_result",
          "data": {
            "text/plain": [
              "Text(0, 0.5, '$x_2$')"
            ]
          },
          "metadata": {},
          "execution_count": 4
        },
        {
          "output_type": "display_data",
          "data": {
            "image/png": "[encoded data removed]",
            "text/plain": [
              "<Figure size 432x288 with 1 Axes>"
            ]
          },
          "metadata": {
            "needs_background": "light"
          }
        }
      ]
    },
    {
      "cell_type": "code",
      "source": [
        "import matplotlib.pyplot as plt\n",
        "p = 100\n",
        "x = -1 + 2 * np.random.rand(p).reshape(1,-1)\n",
        "y = -18 * x + 6 + 2.5 * np.random.randn(p)\n",
        "plt.plot(x,y,'.b')\n",
        "\n",
        "n = neuron(1, linear, 0.1)\n",
        "n.train(x, y, epochs=100)\n",
        "\n",
        "xn = np.array([[-1, 1]])\n",
        "plt.plot(xn.ravel() ,n.predict(xn),'--r')"
      ],
      "metadata": {
        "colab": {
          "base_uri": "https://localhost:8080/",
          "height": 284
        },
        "id": "YA1-fMdpohab",
        "outputId": "1ecb7d07-edac-4737-934e-16bd4de7f519"
      },
      "execution_count": 9,
      "outputs": [
        {
          "output_type": "execute_result",
          "data": {
            "text/plain": [
              "[<matplotlib.lines.Line2D at 0x7fad81e71810>]"
            ]
          },
          "metadata": {},
          "execution_count": 9
        },
        {
          "output_type": "display_data",
          "data": {
            "image/png": "[encoded data removed]",
            "text/plain": [
              "<Figure size 432x288 with 1 Axes>"
            ]
          },
          "metadata": {
            "needs_background": "light"
          }
        }
      ]
    }
  ]
}