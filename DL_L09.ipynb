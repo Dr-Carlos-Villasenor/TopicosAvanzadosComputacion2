{
  "nbformat": 4,
  "nbformat_minor": 0,
  "metadata": {
    "colab": {
      "name": "DL_L09.ipynb",
      "provenance": [],
      "collapsed_sections": [],
      "include_colab_link": true
    },
    "kernelspec": {
      "name": "python3",
      "display_name": "Python 3"
    },
    "accelerator": "GPU"
  },
  "cells": [
    {
      "cell_type": "markdown",
      "metadata": {
        "id": "view-in-github",
        "colab_type": "text"
      },
      "source": [
        "<a href=\"https://colab.research.google.com/github/Dr-Carlos-Villasenor/TopicosAvanzadosComputacion2/blob/master/DL_L09.ipynb\" target=\"_parent\"><img src=\"https://colab.research.google.com/assets/colab-badge.svg\" alt=\"Open In Colab\"/></a>"
      ]
    },
    {
      "cell_type": "markdown",
      "metadata": {
        "id": "4zp_0_xZvw4K",
        "colab_type": "text"
      },
      "source": [
        "# Tópicos Avanzados de Computación II\n",
        "## Dr. Carlos Villaseñor\n",
        "## Lección 9 - Redes Neuronales convolucionales II\n",
        "### Practica en Aprendizaje de transferencia y aumentación de datos"
      ]
    },
    {
      "cell_type": "markdown",
      "metadata": {
        "id": "qMJem6ZuwknJ",
        "colab_type": "text"
      },
      "source": [
        "Importar bibliotecas\n",
        "\n"
      ]
    },
    {
      "cell_type": "code",
      "metadata": {
        "id": "mtXnehErvsnR",
        "colab_type": "code",
        "colab": {
          "base_uri": "https://localhost:8080/",
          "height": 36
        },
        "outputId": "aa9c3f18-c298-412e-804c-48b2777e13da"
      },
      "source": [
        "import pandas as pd\n",
        "import numpy as np\n",
        "import os\n",
        "import keras\n",
        "import matplotlib.pyplot as plt\n",
        "from keras.layers import Dense,GlobalAveragePooling2D\n",
        "from keras.applications import MobileNet\n",
        "from keras.preprocessing import image\n",
        "from keras.applications.mobilenet import preprocess_input\n",
        "from keras.preprocessing.image import ImageDataGenerator\n",
        "from keras.models import Model\n",
        "from keras.optimizers import Adam"
      ],
      "execution_count": 1,
      "outputs": [
        {
          "output_type": "stream",
          "text": [
            "Using TensorFlow backend.\n"
          ],
          "name": "stderr"
        }
      ]
    },
    {
      "cell_type": "markdown",
      "metadata": {
        "id": "shvPrpcuw43_",
        "colab_type": "text"
      },
      "source": [
        "Importar MobileNet base pero descartaremos las últimas capa"
      ]
    },
    {
      "cell_type": "code",
      "metadata": {
        "id": "4Q6iGl62xPNJ",
        "colab_type": "code",
        "colab": {}
      },
      "source": [
        "base_model=MobileNet(weights='imagenet',include_top=False)\n",
        "print(base_model.summary())"
      ],
      "execution_count": null,
      "outputs": []
    },
    {
      "cell_type": "markdown",
      "metadata": {
        "id": "aCeLxtlEyCJV",
        "colab_type": "text"
      },
      "source": [
        "Crear nueva Red Neuronal"
      ]
    },
    {
      "cell_type": "code",
      "metadata": {
        "id": "AYQX0UAbyHzA",
        "colab_type": "code",
        "colab": {}
      },
      "source": [
        "x=base_model.output\n",
        "x=GlobalAveragePooling2D()(x)\n",
        "x=Dense(1024,activation='relu')(x) \n",
        "x=Dense(1024,activation='relu')(x) \n",
        "x=Dense(512,activation='relu')(x) \n",
        "preds=Dense(3, activation='softmax')(x)"
      ],
      "execution_count": 18,
      "outputs": []
    },
    {
      "cell_type": "markdown",
      "metadata": {
        "id": "b9fBbvIzzJG6",
        "colab_type": "text"
      },
      "source": [
        "Pegar Redes Neuronales"
      ]
    },
    {
      "cell_type": "code",
      "metadata": {
        "id": "PkdA8UWWzSrS",
        "colab_type": "code",
        "colab": {}
      },
      "source": [
        "model=Model(inputs=base_model.input, outputs=preds)\n",
        "print(model.summary())"
      ],
      "execution_count": null,
      "outputs": []
    },
    {
      "cell_type": "markdown",
      "metadata": {
        "id": "5Sg7ZRB0zq-i",
        "colab_type": "text"
      },
      "source": [
        "Definir que capas se entrenan"
      ]
    },
    {
      "cell_type": "code",
      "metadata": {
        "id": "OGYwhdoFzqVk",
        "colab_type": "code",
        "colab": {}
      },
      "source": [
        "for layer in model.layers[:10]:\n",
        "    layer.trainable=False\n",
        "for layer in model.layers[10:]:\n",
        "    layer.trainable=True"
      ],
      "execution_count": 20,
      "outputs": []
    },
    {
      "cell_type": "markdown",
      "metadata": {
        "id": "4-39u5Pp1Lkj",
        "colab_type": "text"
      },
      "source": [
        "Cargar datos nuevos\n",
        "\n",
        "- Carge el archivo 'train.zip' en la pestaña archivos en el lateral izquierdo\n",
        "- Corra la siguiente linea para descomprimir los archivos"
      ]
    },
    {
      "cell_type": "code",
      "metadata": {
        "id": "fwbljBNp1hKK",
        "colab_type": "code",
        "colab": {}
      },
      "source": [
        "!unzip train.zip "
      ],
      "execution_count": null,
      "outputs": []
    },
    {
      "cell_type": "markdown",
      "metadata": {
        "id": "qKTX6gWt14cy",
        "colab_type": "text"
      },
      "source": [
        "Crear generador desde carpeta"
      ]
    },
    {
      "cell_type": "code",
      "metadata": {
        "id": "p7oy8_sZ2Mc-",
        "colab_type": "code",
        "colab": {
          "base_uri": "https://localhost:8080/",
          "height": 36
        },
        "outputId": "54e5ce03-6136-4846-c1d9-5869c05a5add"
      },
      "source": [
        "train_datagen=ImageDataGenerator(zoom_range=0.2, horizontal_flip=True,\n",
        "                                 width_shift_range=0.2,\n",
        "                                 height_shift_range=0.2,\n",
        "                                 preprocessing_function=preprocess_input)\n",
        "\n",
        "train_generator=train_datagen.flow_from_directory('./train/',\n",
        "                                                 target_size=(224,224),\n",
        "                                                 color_mode='rgb',\n",
        "                                                 batch_size=32,\n",
        "                                                 class_mode='categorical',\n",
        "                                                 shuffle=True)\n",
        "\n"
      ],
      "execution_count": 21,
      "outputs": [
        {
          "output_type": "stream",
          "text": [
            "Found 197 images belonging to 3 classes.\n"
          ],
          "name": "stdout"
        }
      ]
    },
    {
      "cell_type": "markdown",
      "metadata": {
        "id": "F9zw5rV33psh",
        "colab_type": "text"
      },
      "source": [
        "Compilar Modelo y entrenar desde carpeta"
      ]
    },
    {
      "cell_type": "code",
      "metadata": {
        "id": "efD515JO3zlL",
        "colab_type": "code",
        "colab": {
          "base_uri": "https://localhost:8080/",
          "height": 258
        },
        "outputId": "225d74e2-b4c6-43a8-df77-85b85a32344d"
      },
      "source": [
        "model.compile(optimizer='Adam',loss='categorical_crossentropy',\n",
        "              metrics=['accuracy'])\n",
        "\n",
        "step_size_train=train_generator.n//train_generator.batch_size\n",
        "\n",
        "model.fit_generator(generator=train_generator,\n",
        "                    steps_per_epoch=step_size_train,\n",
        "                    epochs=6)"
      ],
      "execution_count": 23,
      "outputs": [
        {
          "output_type": "stream",
          "text": [
            "Epoch 1/6\n",
            "6/6 [==============================] - 7s 1s/step - loss: 0.3070 - accuracy: 0.9212\n",
            "Epoch 2/6\n",
            "6/6 [==============================] - 2s 339ms/step - loss: 0.1995 - accuracy: 0.9515\n",
            "Epoch 3/6\n",
            "6/6 [==============================] - 3s 424ms/step - loss: 0.2977 - accuracy: 0.9062\n",
            "Epoch 4/6\n",
            "6/6 [==============================] - 2s 323ms/step - loss: 0.2699 - accuracy: 0.9275\n",
            "Epoch 5/6\n",
            "6/6 [==============================] - 3s 418ms/step - loss: 0.2605 - accuracy: 0.9375\n",
            "Epoch 6/6\n",
            "6/6 [==============================] - 2s 362ms/step - loss: 0.1844 - accuracy: 0.9515\n"
          ],
          "name": "stdout"
        },
        {
          "output_type": "execute_result",
          "data": {
            "text/plain": [
              "<keras.callbacks.callbacks.History at 0x7f19be473f60>"
            ]
          },
          "metadata": {
            "tags": []
          },
          "execution_count": 23
        }
      ]
    }
  ]
}