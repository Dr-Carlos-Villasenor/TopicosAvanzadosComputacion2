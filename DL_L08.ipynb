{
  "nbformat": 4,
  "nbformat_minor": 0,
  "metadata": {
    "colab": {
      "name": "DL_L08.ipynb",
      "provenance": [],
      "collapsed_sections": [],
      "machine_shape": "hm",
      "include_colab_link": true
    },
    "kernelspec": {
      "name": "python3",
      "display_name": "Python 3"
    }
  },
  "cells": [
    {
      "cell_type": "markdown",
      "metadata": {
        "id": "view-in-github",
        "colab_type": "text"
      },
      "source": [
        "<a href=\"https://colab.research.google.com/github/Dr-Carlos-Villasenor/TopicosAvanzadosComputacion2/blob/master/DL_L08.ipynb\" target=\"_parent\"><img src=\"https://colab.research.google.com/assets/colab-badge.svg\" alt=\"Open In Colab\"/></a>"
      ]
    },
    {
      "cell_type": "markdown",
      "metadata": {
        "id": "WpTU6Fm6VQ-s",
        "colab_type": "text"
      },
      "source": [
        "# Tópicos Avanzados de Computación II\n",
        "## Dr. Carlos Villaseñor\n",
        "## Lección 8 - Redes Neuronales convolucionales\n"
      ]
    },
    {
      "cell_type": "markdown",
      "metadata": {
        "id": "ngsxf6Dp-Zh8",
        "colab_type": "text"
      },
      "source": [
        "Primeramente importamos unos paquetes"
      ]
    },
    {
      "cell_type": "code",
      "metadata": {
        "id": "zVop1APMUX5I",
        "colab_type": "code",
        "colab": {}
      },
      "source": [
        "# Importamos numpy y matplotlib\n",
        "import numpy as np\n",
        "import matplotlib.pyplot as plt\n",
        "\n",
        "# Importamos lo necesario para crear la red\n",
        "from tensorflow import keras\n",
        "from keras.datasets import mnist\n",
        "from keras.models import Sequential\n",
        "from keras.layers import Dense, Dropout, Flatten\n",
        "from keras.layers import Conv2D, MaxPooling2D\n",
        "from keras import backend\n",
        "\n",
        "# Importamos unos paquetes de sklearn para comprobar el modelo\n",
        "from sklearn.metrics import classification_report, confusion_matrix"
      ],
      "execution_count": 45,
      "outputs": []
    },
    {
      "cell_type": "markdown",
      "metadata": {
        "id": "MKSs3Oax-0on",
        "colab_type": "text"
      },
      "source": [
        "Cargamos el dataset de MNIST"
      ]
    },
    {
      "cell_type": "code",
      "metadata": {
        "id": "Po4byVAcVM0R",
        "colab_type": "code",
        "colab": {}
      },
      "source": [
        "(xtrain, ytrain), (xtest, ytest) = mnist.load_data()"
      ],
      "execution_count": 46,
      "outputs": []
    },
    {
      "cell_type": "markdown",
      "metadata": {
        "id": "514SgKuu-3qQ",
        "colab_type": "text"
      },
      "source": [
        "Mostrartemos un ejemplo de manera aleatoria"
      ]
    },
    {
      "cell_type": "code",
      "metadata": {
        "id": "hQVvX4_lWFoe",
        "colab_type": "code",
        "colab": {
          "base_uri": "https://localhost:8080/",
          "height": 300
        },
        "outputId": "7901e861-f1ba-4a33-ef01-227ed43d3820"
      },
      "source": [
        "sample = np.random.randint(0,60000)\n",
        "plt.imshow(xtrain[sample], cmap=plt.cm.gray)\n",
        "plt.title('Label: ' + str(ytrain[sample]))"
      ],
      "execution_count": 54,
      "outputs": [
        {
          "output_type": "execute_result",
          "data": {
            "text/plain": [
              "Text(0.5, 1.0, 'Label: 7')"
            ]
          },
          "metadata": {
            "tags": []
          },
          "execution_count": 54
        },
        {
          "output_type": "display_data",
          "data": {
            "image/png": "[encoded data removed]",
            "text/plain": [
              "<Figure size 432x288 with 1 Axes>"
            ]
          },
          "metadata": {
            "tags": [],
            "needs_background": "light"
          }
        }
      ]
    },
    {
      "cell_type": "code",
      "metadata": {
        "id": "c7FSDURcWjjn",
        "colab_type": "code",
        "colab": {
          "base_uri": "https://localhost:8080/",
          "height": 54
        },
        "outputId": "362a9bf5-980c-4515-9328-eb192e52d40a"
      },
      "source": [
        "xtrain = xtrain.astype('float32')/255\n",
        "xtest = xtest.astype('float32')/255\n",
        "\n",
        "if backend.image_data_format() == 'channels_first':\n",
        "    xtrain = xtrain.reshape(xtrain.shape[0], 1, 28, 28)\n",
        "    xtest = xtest.reshape(xtest.shape[0], 1, 28, 28)\n",
        "    input_shape = (1, 28, 28)\n",
        "else:\n",
        "    xtrain = xtrain.reshape(xtrain.shape[0], 28, 28, 1)\n",
        "    xtest = xtest.reshape(xtest.shape[0], 28, 28, 1)\n",
        "    input_shape = (28, 28, 1)\n",
        "\n",
        "print(xtrain.shape)\n",
        "print(input_shape)"
      ],
      "execution_count": 55,
      "outputs": [
        {
          "output_type": "stream",
          "text": [
            "(60000, 28, 28, 1)\n",
            "(28, 28, 1)\n"
          ],
          "name": "stdout"
        }
      ]
    },
    {
      "cell_type": "code",
      "metadata": {
        "id": "Bvfkzzq6XTlQ",
        "colab_type": "code",
        "colab": {}
      },
      "source": [
        "ytrain = keras.utils.to_categorical(ytrain, 10)"
      ],
      "execution_count": 56,
      "outputs": []
    },
    {
      "cell_type": "code",
      "metadata": {
        "id": "C2Ef3VekYU2V",
        "colab_type": "code",
        "colab": {}
      },
      "source": [
        "def build_model():\n",
        "  model = Sequential()\n",
        "\n",
        "  model.add(Conv2D(32,kernel_size=(3,3),\n",
        "                   activation='relu',\n",
        "                   input_shape=input_shape))\n",
        "  model.add(MaxPooling2D(pool_size=(2,2)))\n",
        "  model.add(Dropout(0.25))\n",
        "\n",
        "  model.add(Conv2D(64, kernel_size=(3,3), activation='relu'))\n",
        "  model.add(MaxPooling2D(pool_size=(2,2)))\n",
        "  model.add(Dropout(0.25))\n",
        "\n",
        "  model.add(Conv2D(128, kernel_size=(3,3), activation='relu'))\n",
        "  model.add(MaxPooling2D(pool_size=(2,2)))\n",
        "  model.add(Dropout(0.25))\n",
        "\n",
        "  model.add(Flatten())\n",
        "  model.add(Dense(128, activation='relu'))\n",
        "  model.add(Dropout(0.5))\n",
        "  model.add(Dense(10, activation='softmax'))\n",
        "\n",
        "  model.compile(loss = keras.losses.categorical_crossentropy,\n",
        "                optimizer = 'adam',\n",
        "                metrics=['accuracy'])\n",
        "  return model"
      ],
      "execution_count": 57,
      "outputs": []
    },
    {
      "cell_type": "code",
      "metadata": {
        "id": "Da6Y4I4fA_Hh",
        "colab_type": "code",
        "colab": {
          "base_uri": "https://localhost:8080/",
          "height": 647
        },
        "outputId": "96512070-f476-45b4-a619-fa8fef623353"
      },
      "source": [
        "model = build_model()\n",
        "model.summary()"
      ],
      "execution_count": 58,
      "outputs": [
        {
          "output_type": "stream",
          "text": [
            "Model: \"sequential_2\"\n",
            "_________________________________________________________________\n",
            "Layer (type)                 Output Shape              Param #   \n",
            "=================================================================\n",
            "conv2d_4 (Conv2D)            (None, 26, 26, 32)        320       \n",
            "_________________________________________________________________\n",
            "max_pooling2d_4 (MaxPooling2 (None, 13, 13, 32)        0         \n",
            "_________________________________________________________________\n",
            "dropout_5 (Dropout)          (None, 13, 13, 32)        0         \n",
            "_________________________________________________________________\n",
            "conv2d_5 (Conv2D)            (None, 11, 11, 64)        18496     \n",
            "_________________________________________________________________\n",
            "max_pooling2d_5 (MaxPooling2 (None, 5, 5, 64)          0         \n",
            "_________________________________________________________________\n",
            "dropout_6 (Dropout)          (None, 5, 5, 64)          0         \n",
            "_________________________________________________________________\n",
            "conv2d_6 (Conv2D)            (None, 3, 3, 128)         73856     \n",
            "_________________________________________________________________\n",
            "max_pooling2d_6 (MaxPooling2 (None, 1, 1, 128)         0         \n",
            "_________________________________________________________________\n",
            "dropout_7 (Dropout)          (None, 1, 1, 128)         0         \n",
            "_________________________________________________________________\n",
            "flatten_2 (Flatten)          (None, 128)               0         \n",
            "_________________________________________________________________\n",
            "dense_3 (Dense)              (None, 128)               16512     \n",
            "_________________________________________________________________\n",
            "dropout_8 (Dropout)          (None, 128)               0         \n",
            "_________________________________________________________________\n",
            "dense_4 (Dense)              (None, 10)                1290      \n",
            "=================================================================\n",
            "Total params: 110,474\n",
            "Trainable params: 110,474\n",
            "Non-trainable params: 0\n",
            "_________________________________________________________________\n"
          ],
          "name": "stdout"
        }
      ]
    },
    {
      "cell_type": "code",
      "metadata": {
        "id": "YKryCRw8aWRX",
        "colab_type": "code",
        "colab": {
          "base_uri": "https://localhost:8080/",
          "height": 519
        },
        "outputId": "e6a4072e-9aeb-4532-b910-55036b3e0ff1"
      },
      "source": [
        "model.fit(xtrain, ytrain, batch_size=215, epochs=12, verbose=1,\n",
        "          validation_split=0.17)"
      ],
      "execution_count": 60,
      "outputs": [
        {
          "output_type": "stream",
          "text": [
            "Train on 49800 samples, validate on 10200 samples\n",
            "Epoch 1/12\n",
            "49800/49800 [==============================] - 22s 451us/step - loss: 0.1915 - accuracy: 0.9446 - val_loss: 0.0784 - val_accuracy: 0.9759\n",
            "Epoch 2/12\n",
            "49800/49800 [==============================] - 22s 450us/step - loss: 0.1563 - accuracy: 0.9539 - val_loss: 0.0697 - val_accuracy: 0.9805\n",
            "Epoch 3/12\n",
            "49800/49800 [==============================] - 22s 450us/step - loss: 0.1322 - accuracy: 0.9614 - val_loss: 0.0632 - val_accuracy: 0.9814\n",
            "Epoch 4/12\n",
            "49800/49800 [==============================] - 23s 457us/step - loss: 0.1205 - accuracy: 0.9652 - val_loss: 0.0548 - val_accuracy: 0.9829\n",
            "Epoch 5/12\n",
            "49800/49800 [==============================] - 22s 446us/step - loss: 0.1080 - accuracy: 0.9679 - val_loss: 0.0558 - val_accuracy: 0.9839\n",
            "Epoch 6/12\n",
            "49800/49800 [==============================] - 22s 448us/step - loss: 0.1020 - accuracy: 0.9696 - val_loss: 0.0491 - val_accuracy: 0.9854\n",
            "Epoch 7/12\n",
            "49800/49800 [==============================] - 23s 453us/step - loss: 0.0932 - accuracy: 0.9727 - val_loss: 0.0457 - val_accuracy: 0.9871\n",
            "Epoch 8/12\n",
            "49800/49800 [==============================] - 22s 446us/step - loss: 0.0867 - accuracy: 0.9748 - val_loss: 0.0451 - val_accuracy: 0.9868\n",
            "Epoch 9/12\n",
            "49800/49800 [==============================] - 22s 449us/step - loss: 0.0831 - accuracy: 0.9762 - val_loss: 0.0437 - val_accuracy: 0.9873\n",
            "Epoch 10/12\n",
            "49800/49800 [==============================] - 22s 452us/step - loss: 0.0771 - accuracy: 0.9773 - val_loss: 0.0428 - val_accuracy: 0.9877\n",
            "Epoch 11/12\n",
            "49800/49800 [==============================] - 22s 451us/step - loss: 0.0702 - accuracy: 0.9792 - val_loss: 0.0468 - val_accuracy: 0.9875\n",
            "Epoch 12/12\n",
            "49800/49800 [==============================] - 23s 452us/step - loss: 0.0709 - accuracy: 0.9788 - val_loss: 0.0430 - val_accuracy: 0.9880\n"
          ],
          "name": "stdout"
        },
        {
          "output_type": "execute_result",
          "data": {
            "text/plain": [
              "<keras.callbacks.callbacks.History at 0x7fb501f9a2b0>"
            ]
          },
          "metadata": {
            "tags": []
          },
          "execution_count": 60
        }
      ]
    },
    {
      "cell_type": "code",
      "metadata": {
        "id": "o9FBcoA77BeR",
        "colab_type": "code",
        "colab": {
          "base_uri": "https://localhost:8080/",
          "height": 647
        },
        "outputId": "389c2a1e-6dad-48b8-b6df-01818812bdf7"
      },
      "source": [
        "ypred=model.predict(xtest)\n",
        "print('Salida de la red:\\n', ypred[0])\n",
        "\n",
        "ypred = np.argmax(ypred, axis=1)\n",
        "print('Predicciones:\\n', ypred)\n",
        "\n",
        "print('Reporte de clasificación:\\n', classification_report(ytest, ypred))\n",
        "print('Matriz de confusión:\\n', confusion_matrix(ytest, ypred))"
      ],
      "execution_count": 61,
      "outputs": [
        {
          "output_type": "stream",
          "text": [
            "Salida de la red:\n",
            " [1.4683944e-10 6.3708615e-07 1.7525837e-05 3.8782514e-07 1.0001444e-09\n",
            " 3.6225301e-11 2.2320155e-14 9.9998116e-01 7.5642170e-10 3.2249611e-07]\n",
            "Predicciones:\n",
            " [7 2 1 ... 4 5 6]\n",
            "Reporte de clasificación:\n",
            "               precision    recall  f1-score   support\n",
            "\n",
            "           0       0.99      0.99      0.99       980\n",
            "           1       0.99      1.00      0.99      1135\n",
            "           2       0.99      0.98      0.98      1032\n",
            "           3       0.98      1.00      0.99      1010\n",
            "           4       0.99      0.99      0.99       982\n",
            "           5       0.99      0.99      0.99       892\n",
            "           6       0.99      0.98      0.99       958\n",
            "           7       0.97      0.99      0.98      1028\n",
            "           8       0.99      0.98      0.99       974\n",
            "           9       0.99      0.99      0.99      1009\n",
            "\n",
            "    accuracy                           0.99     10000\n",
            "   macro avg       0.99      0.99      0.99     10000\n",
            "weighted avg       0.99      0.99      0.99     10000\n",
            "\n",
            "Matriz de confusión:\n",
            " [[ 971    1    0    1    1    0    2    3    0    1]\n",
            " [   0 1134    0    1    0    0    0    0    0    0]\n",
            " [   2    0 1008    5    1    0    0   16    0    0]\n",
            " [   0    0    1 1005    0    1    0    3    0    0]\n",
            " [   0    1    0    0  970    0    5    0    0    6]\n",
            " [   3    0    0    6    0  879    1    1    2    0]\n",
            " [   3    7    0    0    2    3  941    0    2    0]\n",
            " [   0    3    6    2    0    1    0 1014    0    2]\n",
            " [   0    0    1    2    2    1    1    3  959    5]\n",
            " [   1    0    0    0    4    2    1    3    1  997]]\n"
          ],
          "name": "stdout"
        }
      ]
    },
    {
      "cell_type": "code",
      "metadata": {
        "id": "d8kEVSI9gobE",
        "colab_type": "code",
        "colab": {
          "base_uri": "https://localhost:8080/",
          "height": 281
        },
        "outputId": "6f7a3644-feef-4bb7-efc4-cc99912d991e"
      },
      "source": [
        "\n",
        "sample = np.random.randint(0,10000)\n",
        "x = xtest[sample].reshape(28,28)\n",
        "plt.imshow(x, cmap=plt.cm.gray)\n",
        "plt.title('Prediction: ' + str(ypred[sample]))\n",
        "plt.show()"
      ],
      "execution_count": 69,
      "outputs": [
        {
          "output_type": "display_data",
          "data": {
            "image/png": "[encoded data removed]",
            "text/plain": [
              "<Figure size 432x288 with 1 Axes>"
            ]
          },
          "metadata": {
            "tags": [],
            "needs_background": "light"
          }
        }
      ]
    }
  ]
}